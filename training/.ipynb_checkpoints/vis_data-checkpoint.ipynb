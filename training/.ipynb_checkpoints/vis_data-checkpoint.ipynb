{
 "cells": [
  {
   "cell_type": "code",
   "execution_count": 1,
   "metadata": {
    "collapsed": false
   },
   "outputs": [
    {
     "name": "stdout",
     "output_type": "stream",
     "text": [
      "data (1L, 4L, 368L, 368L)\n",
      "label (1L, 30L, 46L, 46L)\n",
      "label_lower (1L, 15L, 46L, 46L)\n",
      "label_1st_lower (1L, 15L, 46L, 46L)\n",
      "label_lower_label_lower_0_split_0 (1L, 15L, 46L, 46L)\n",
      "label_lower_label_lower_0_split_1 (1L, 15L, 46L, 46L)\n",
      "label_lower_label_lower_0_split_2 (1L, 15L, 46L, 46L)\n",
      "label_lower_label_lower_0_split_3 (1L, 15L, 46L, 46L)\n",
      "label_lower_label_lower_0_split_4 (1L, 15L, 46L, 46L)\n",
      "image (1L, 3L, 368L, 368L)\n",
      "center_map (1L, 1L, 368L, 368L)\n",
      "image_image_0_split_0 (1L, 3L, 368L, 368L)\n",
      "image_image_0_split_1 (1L, 3L, 368L, 368L)\n",
      "pool_center_lower (1L, 1L, 46L, 46L)\n",
      "pool_center_lower_pool_center_lower_0_split_0 (1L, 1L, 46L, 46L)\n",
      "pool_center_lower_pool_center_lower_0_split_1 (1L, 1L, 46L, 46L)\n",
      "pool_center_lower_pool_center_lower_0_split_2 (1L, 1L, 46L, 46L)\n",
      "pool_center_lower_pool_center_lower_0_split_3 (1L, 1L, 46L, 46L)\n",
      "pool_center_lower_pool_center_lower_0_split_4 (1L, 1L, 46L, 46L)\n",
      "conv1_stage1 (1L, 128L, 368L, 368L)\n",
      "pool1_stage1 (1L, 128L, 184L, 184L)\n",
      "conv2_stage1 (1L, 128L, 184L, 184L)\n",
      "pool2_stage1 (1L, 128L, 92L, 92L)\n",
      "conv3_stage1 (1L, 128L, 92L, 92L)\n",
      "pool3_stage1 (1L, 128L, 46L, 46L)\n",
      "conv4_stage1 (1L, 32L, 46L, 46L)\n",
      "conv5_stage1 (1L, 512L, 46L, 46L)\n",
      "conv6_stage1 (1L, 512L, 46L, 46L)\n",
      "conv7_stage1 (1L, 15L, 46L, 46L)\n",
      "conv7_stage1_conv7_stage1_0_split_0 (1L, 15L, 46L, 46L)\n",
      "conv7_stage1_conv7_stage1_0_split_1 (1L, 15L, 46L, 46L)\n",
      "loss_stage1 ()\n",
      "conv1_stage2 (1L, 128L, 368L, 368L)\n",
      "pool1_stage2 (1L, 128L, 184L, 184L)\n",
      "conv2_stage2 (1L, 128L, 184L, 184L)\n",
      "pool2_stage2 (1L, 128L, 92L, 92L)\n",
      "conv3_stage2 (1L, 128L, 92L, 92L)\n",
      "pool3_stage2 (1L, 128L, 46L, 46L)\n",
      "pool3_stage2_pool3_stage2_0_split_0 (1L, 128L, 46L, 46L)\n",
      "pool3_stage2_pool3_stage2_0_split_1 (1L, 128L, 46L, 46L)\n",
      "pool3_stage2_pool3_stage2_0_split_2 (1L, 128L, 46L, 46L)\n",
      "pool3_stage2_pool3_stage2_0_split_3 (1L, 128L, 46L, 46L)\n",
      "pool3_stage2_pool3_stage2_0_split_4 (1L, 128L, 46L, 46L)\n",
      "conv4_stage2 (1L, 32L, 46L, 46L)\n",
      "concat_stage2 (1L, 48L, 46L, 46L)\n",
      "Mconv1_stage2 (1L, 128L, 46L, 46L)\n",
      "Mconv2_stage2 (1L, 128L, 46L, 46L)\n",
      "Mconv3_stage2 (1L, 128L, 46L, 46L)\n",
      "Mconv4_stage2 (1L, 128L, 46L, 46L)\n",
      "Mconv5_stage2 (1L, 15L, 46L, 46L)\n",
      "Mconv5_stage2_Mconv5_stage2_0_split_0 (1L, 15L, 46L, 46L)\n",
      "Mconv5_stage2_Mconv5_stage2_0_split_1 (1L, 15L, 46L, 46L)\n",
      "loss_stage2 ()\n",
      "conv1_stage3 (1L, 32L, 46L, 46L)\n",
      "concat_stage3 (1L, 48L, 46L, 46L)\n",
      "Mconv1_stage3 (1L, 128L, 46L, 46L)\n",
      "Mconv2_stage3 (1L, 128L, 46L, 46L)\n",
      "Mconv3_stage3 (1L, 128L, 46L, 46L)\n",
      "Mconv4_stage3 (1L, 128L, 46L, 46L)\n",
      "Mconv5_stage3 (1L, 15L, 46L, 46L)\n",
      "Mconv5_stage3_Mconv5_stage3_0_split_0 (1L, 15L, 46L, 46L)\n",
      "Mconv5_stage3_Mconv5_stage3_0_split_1 (1L, 15L, 46L, 46L)\n",
      "loss_stage3 ()\n",
      "conv1_stage4 (1L, 32L, 46L, 46L)\n",
      "concat_stage4 (1L, 48L, 46L, 46L)\n",
      "Mconv1_stage4 (1L, 128L, 46L, 46L)\n",
      "Mconv2_stage4 (1L, 128L, 46L, 46L)\n",
      "Mconv3_stage4 (1L, 128L, 46L, 46L)\n",
      "Mconv4_stage4 (1L, 128L, 46L, 46L)\n",
      "Mconv5_stage4 (1L, 15L, 46L, 46L)\n",
      "Mconv5_stage4_Mconv5_stage4_0_split_0 (1L, 15L, 46L, 46L)\n",
      "Mconv5_stage4_Mconv5_stage4_0_split_1 (1L, 15L, 46L, 46L)\n",
      "loss_stage4 ()\n",
      "conv1_stage5 (1L, 32L, 46L, 46L)\n",
      "concat_stage5 (1L, 48L, 46L, 46L)\n",
      "Mconv1_stage5 (1L, 128L, 46L, 46L)\n",
      "Mconv2_stage5 (1L, 128L, 46L, 46L)\n",
      "Mconv3_stage5 (1L, 128L, 46L, 46L)\n",
      "Mconv4_stage5 (1L, 128L, 46L, 46L)\n",
      "Mconv5_stage5 (1L, 15L, 46L, 46L)\n",
      "Mconv5_stage5_Mconv5_stage5_0_split_0 (1L, 15L, 46L, 46L)\n",
      "Mconv5_stage5_Mconv5_stage5_0_split_1 (1L, 15L, 46L, 46L)\n",
      "loss_stage5 ()\n",
      "conv1_stage6 (1L, 32L, 46L, 46L)\n",
      "concat_stage6 (1L, 48L, 46L, 46L)\n",
      "Mconv1_stage6 (1L, 128L, 46L, 46L)\n",
      "Mconv2_stage6 (1L, 128L, 46L, 46L)\n",
      "Mconv3_stage6 (1L, 128L, 46L, 46L)\n",
      "Mconv4_stage6 (1L, 128L, 46L, 46L)\n",
      "Mconv5_stage6 (1L, 15L, 46L, 46L)\n",
      "loss_stage6 ()\n"
     ]
    },
    {
     "name": "stderr",
     "output_type": "stream",
     "text": [
      "D:\\Projects\\Human_Pose_Estimation\\caffe\\Build\\x64\\Release\\pycaffe\\caffe\\pycaffe.py:13: RuntimeWarning: to-Python converter for class boost::shared_ptr<class caffe::Net<float> > already registered; second conversion method ignored.\n",
      "  from ._caffe import Net, SGDSolver, NesterovSolver, AdaGradSolver, \\\n",
      "D:\\Projects\\Human_Pose_Estimation\\caffe\\Build\\x64\\Release\\pycaffe\\caffe\\pycaffe.py:13: RuntimeWarning: to-Python converter for class boost::shared_ptr<class caffe::Blob<float> > already registered; second conversion method ignored.\n",
      "  from ._caffe import Net, SGDSolver, NesterovSolver, AdaGradSolver, \\\n",
      "D:\\Projects\\Human_Pose_Estimation\\caffe\\Build\\x64\\Release\\pycaffe\\caffe\\pycaffe.py:13: RuntimeWarning: to-Python converter for class boost::shared_ptr<class caffe::Solver<float> > already registered; second conversion method ignored.\n",
      "  from ._caffe import Net, SGDSolver, NesterovSolver, AdaGradSolver, \\\n"
     ]
    }
   ],
   "source": [
    "import sys\n",
    "sys.path.insert(0, 'D:\\\\Projects\\\\Human_Pose_Estimation\\\\caffe\\\\Build\\\\x64\\\\Release\\\\pycaffe\\\\')\n",
    "import caffe\n",
    "caffe.set_mode_cpu()\n",
    "net = caffe.Net( 'prototxt\\\\MPI_validation\\\\pose_train_test.prototxt',\n",
    "                 'prototxt\\\\MPI_validation\\\\caffemodel\\\\pose_iter_10.caffemodel',\n",
    "                caffe.TRAIN)\n",
    "import numpy as np\n",
    "import matplotlib.pyplot as plt\n",
    "import mpl_toolkits.mplot3d\n",
    "import datetime\n",
    "import cv2\n",
    "IMG_SIZE = 368\n",
    "for k, v in net.blobs.items():\n",
    "    print k, v.data.shape"
   ]
  },
  {
   "cell_type": "code",
   "execution_count": 2,
   "metadata": {
    "collapsed": false
   },
   "outputs": [
    {
     "ename": "AttributeError",
     "evalue": "'Net' object has no attribute 'step'",
     "output_type": "error",
     "traceback": [
      "\u001b[1;31m---------------------------------------------------------------------------\u001b[0m",
      "\u001b[1;31mAttributeError\u001b[0m                            Traceback (most recent call last)",
      "\u001b[1;32m<ipython-input-2-7665875dae51>\u001b[0m in \u001b[0;36m<module>\u001b[1;34m()\u001b[0m\n\u001b[1;32m----> 1\u001b[1;33m \u001b[0mnet\u001b[0m\u001b[1;33m.\u001b[0m\u001b[0mstep\u001b[0m\u001b[1;33m(\u001b[0m\u001b[1;36m1\u001b[0m\u001b[1;33m)\u001b[0m\u001b[1;33m\u001b[0m\u001b[0m\n\u001b[0m",
      "\u001b[1;31mAttributeError\u001b[0m: 'Net' object has no attribute 'step'"
     ]
    }
   ],
   "source": [
    "net.forward()"
   ]
  },
  {
   "cell_type": "code",
   "execution_count": null,
   "metadata": {
    "collapsed": true
   },
   "outputs": [],
   "source": []
  }
 ],
 "metadata": {
  "kernelspec": {
   "display_name": "Python 2",
   "language": "python",
   "name": "python2"
  },
  "language_info": {
   "codemirror_mode": {
    "name": "ipython",
    "version": 2
   },
   "file_extension": ".py",
   "mimetype": "text/x-python",
   "name": "python",
   "nbconvert_exporter": "python",
   "pygments_lexer": "ipython2",
   "version": "2.7.11"
  }
 },
 "nbformat": 4,
 "nbformat_minor": 0
}
